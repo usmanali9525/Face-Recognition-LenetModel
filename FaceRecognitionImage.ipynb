{
 "cells": [
  {
   "cell_type": "code",
   "execution_count": 5,
   "metadata": {},
   "outputs": [
    {
     "name": "stdout",
     "output_type": "stream",
     "text": [
      "Processing Leonardo.jpg\n",
      "Recognized as: Leonardo DiCaprio\n",
      "Processing Robert.jpg\n",
      "Recognized as: Robert Downey Jr\n",
      "Processing Scarlett.jpg\n",
      "Recognized as: Scarlett Johansson\n",
      "Processing Steve.jpg\n",
      "Recognized as: Steve Jobs\n",
      "Processing Tom.jpg\n",
      "Recognized as: Tom Cruise\n",
      "Processing Waqar.jpg\n",
      "Recognized as: Waqar\n",
      "Processing Waqar1.jpg\n",
      "Recognized as: Waqar\n",
      "Processing Will.jpg\n",
      "Recognized as: Will Smitth\n"
     ]
    }
   ],
   "source": [
    "import face_recognition\n",
    "import cv2\n",
    "import os\n",
    "\n",
    "def read_img(path):\n",
    "    img = cv2.imread(path)\n",
    "    (h, w) = img.shape[:2]\n",
    "    width = 500\n",
    "    ratio = width / float(w)\n",
    "    height = int(h * ratio)\n",
    "    return cv2.resize(img, (width, height))\n",
    "\n",
    "known_encodings = []\n",
    "known_names = []\n",
    "known_dir = 'Known'\n",
    "\n",
    "for file in os.listdir(known_dir):\n",
    "    img = read_img(os.path.join(known_dir, file))\n",
    "    img_encodings = face_recognition.face_encodings(img)\n",
    "    if len(img_encodings) > 0:\n",
    "        img_enc = img_encodings[0]\n",
    "        known_encodings.append(img_enc)\n",
    "        known_names.append(file.split('.')[0])\n",
    "\n",
    "unknown_dir = 'Unknown'\n",
    "for file in os.listdir(unknown_dir):\n",
    "    print(\"Processing\", file)\n",
    "    img = read_img(os.path.join(unknown_dir, file))\n",
    "    img_encodings = face_recognition.face_encodings(img)\n",
    "\n",
    "    if len(img_encodings) > 0:\n",
    "        img_enc = img_encodings[0]\n",
    "\n",
    "        results = face_recognition.compare_faces(known_encodings, img_enc)\n",
    "        name = \"Unknown Person\"  # Default name if no match is found\n",
    "\n",
    "        for i in range(len(results)):\n",
    "            if results[i]:\n",
    "                name = known_names[i]\n",
    "                break  # Exit the loop once a match is found\n",
    "\n",
    "        print(\"Recognized as:\", name)\n",
    "    else:\n",
    "        print(\"No face detected in\", file)\n",
    "\n",
    "    cv2.waitKey(0)\n",
    "    cv2.destroyAllWindows()\n"
   ]
  }
 ],
 "metadata": {
  "kernelspec": {
   "display_name": "Python 3",
   "language": "python",
   "name": "python3"
  },
  "language_info": {
   "codemirror_mode": {
    "name": "ipython",
    "version": 3
   },
   "file_extension": ".py",
   "mimetype": "text/x-python",
   "name": "python",
   "nbconvert_exporter": "python",
   "pygments_lexer": "ipython3",
   "version": "3.11.4"
  },
  "orig_nbformat": 4
 },
 "nbformat": 4,
 "nbformat_minor": 2
}
