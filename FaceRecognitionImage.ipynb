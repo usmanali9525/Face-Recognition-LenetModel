{
 "cells": [
  {
   "cell_type": "code",
   "execution_count": 4,
   "metadata": {},
   "outputs": [
    {
     "name": "stdout",
     "output_type": "stream",
     "text": [
      "Processing Jeff.jpg\n",
      "Jeff Bezos\n",
      "Processing Steve.jpg\n",
      "Steve Jobs\n"
     ]
    }
   ],
   "source": [
    "import face_recognition\n",
    "import cv2\n",
    "import os\n",
    "\n",
    "def read_img(path):\n",
    "    img = cv2.imread(path)\n",
    "    (h, w) = img.shape[:2]\n",
    "    width = 100\n",
    "    ratio = width / float(w)\n",
    "    height = int(h * ratio)\n",
    "    return cv2.resize(img, (width, height))\n",
    "\n",
    "known_encodings = []\n",
    "known_names = []\n",
    "known_dir = 'Known'\n",
    "\n",
    "for file in os.listdir(known_dir):\n",
    "    img = read_img(os.path.join(known_dir, file))\n",
    "    img_enc = face_recognition.face_encodings(img)[0]\n",
    "    known_encodings.append(img_enc)\n",
    "    known_names.append(file.split('.')[0])\n",
    "\n",
    "unknown_dir = 'Unkown'\n",
    "for file in os.listdir(unknown_dir):\n",
    "    print(\"Processing\", file)\n",
    "    img = read_img(os.path.join(unknown_dir, file))\n",
    "    img_enc = face_recognition.face_encodings(img)[0]\n",
    "\n",
    "    results = face_recognition.compare_faces(known_encodings, img_enc)\n",
    "\n",
    "    for i in range(len(results)):\n",
    "        if results[i]:\n",
    "            name = known_names[i]\n",
    "            (top, right, bottom, left) = face_recognition.face_locations(img)[0]\n",
    "            cv2.rectangle(img, (left, top), (right, bottom), (0, 0, 255), 2)\n",
    "            cv2.putText(img, name, (left+2, bottom+20), cv2.FONT_HERSHEY_PLAIN, 1, (255, 255, 255), 1)\n",
    "    \n",
    "    print(name)\n",
    "    cv2.waitKey(0)\n",
    "    cv2.destroyAllWindows()\n"
   ]
  }
 ],
 "metadata": {
  "kernelspec": {
   "display_name": "Python 3",
   "language": "python",
   "name": "python3"
  },
  "language_info": {
   "codemirror_mode": {
    "name": "ipython",
    "version": 3
   },
   "file_extension": ".py",
   "mimetype": "text/x-python",
   "name": "python",
   "nbconvert_exporter": "python",
   "pygments_lexer": "ipython3",
   "version": "3.11.4"
  },
  "orig_nbformat": 4
 },
 "nbformat": 4,
 "nbformat_minor": 2
}
