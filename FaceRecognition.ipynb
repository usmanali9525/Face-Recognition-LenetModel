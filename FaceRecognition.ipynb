{
 "cells": [
  {
   "cell_type": "code",
   "execution_count": 45,
   "metadata": {},
   "outputs": [],
   "source": [
    "import face_recognition\n",
    "import cv2\n",
    "import os"
   ]
  },
  {
   "cell_type": "code",
   "execution_count": 46,
   "metadata": {},
   "outputs": [],
   "source": [
    "def read_img(path):\n",
    "    img = cv2.imread(path)\n",
    "    (h, w) = img.shape[:2]\n",
    "    width = 100\n",
    "    ratio = width / float(w)\n",
    "    height = int(h * ratio)\n",
    "    return cv2.resize(img, (width, height))"
   ]
  },
  {
   "cell_type": "code",
   "execution_count": 47,
   "metadata": {},
   "outputs": [],
   "source": [
    "def get_known_faces(known_dir):\n",
    "    known_encodings = []\n",
    "    known_names = []\n",
    "\n",
    "    for file in os.listdir(known_dir):\n",
    "        img = read_img(os.path.join(known_dir, file))\n",
    "        img_enc = face_recognition.face_encodings(img)[0]\n",
    "        known_encodings.append(img_enc)\n",
    "        known_names.append(file.split('.')[0])\n",
    "\n",
    "    return known_encodings, known_names"
   ]
  },
  {
   "cell_type": "code",
   "execution_count": 48,
   "metadata": {},
   "outputs": [],
   "source": [
    "def draw_box_and_name(frame, face_location, name):\n",
    "    top, right, bottom, left = face_location\n",
    "    cv2.rectangle(frame, (left, top), (right, bottom), (0, 0, 255), 2)\n",
    "    cv2.putText(frame, name, (left + 2, bottom + 20), cv2.FONT_HERSHEY_PLAIN, 1, (255, 255, 255), 1)"
   ]
  },
  {
   "cell_type": "code",
   "execution_count": 49,
   "metadata": {},
   "outputs": [],
   "source": [
    "def main():\n",
    "    known_dir = 'Known'\n",
    "    \n",
    "    # Compute and store known face encodings\n",
    "    known_encodings, known_names = get_known_faces(known_dir)\n",
    "\n",
    "    video_capture = cv2.VideoCapture(0)  # Open the camera (0 is usually the default camera)\n",
    "\n",
    "    while True:\n",
    "        ret, frame = video_capture.read()  # Read a frame from the camera feed\n",
    "\n",
    "        face_locations = face_recognition.face_locations(frame)\n",
    "        face_encodings = face_recognition.face_encodings(frame, face_locations)\n",
    "\n",
    "        for face_encoding, face_location in zip(face_encodings, face_locations):\n",
    "            results = face_recognition.compare_faces(known_encodings, face_encoding)\n",
    "            name = \"Unknown\"\n",
    "\n",
    "            if True in results:\n",
    "                index = results.index(True)\n",
    "                name = known_names[index]\n",
    "                draw_box_and_name(frame, face_location, name)\n",
    "\n",
    "        cv2.imshow('Video', frame)\n",
    "\n",
    "        if cv2.waitKey(1) & 0xFF == ord('q'):  # Press 'q' to exit the loop\n",
    "            break\n",
    "\n",
    "    video_capture.release()\n",
    "    cv2.destroyAllWindows()"
   ]
  },
  {
   "cell_type": "code",
   "execution_count": 50,
   "metadata": {},
   "outputs": [],
   "source": [
    "if __name__ == \"__main__\":\n",
    "    main()"
   ]
  }
 ],
 "metadata": {
  "kernelspec": {
   "display_name": "Python 3",
   "language": "python",
   "name": "python3"
  },
  "language_info": {
   "codemirror_mode": {
    "name": "ipython",
    "version": 3
   },
   "file_extension": ".py",
   "mimetype": "text/x-python",
   "name": "python",
   "nbconvert_exporter": "python",
   "pygments_lexer": "ipython3",
   "version": "3.11.4"
  },
  "orig_nbformat": 4
 },
 "nbformat": 4,
 "nbformat_minor": 2
}
